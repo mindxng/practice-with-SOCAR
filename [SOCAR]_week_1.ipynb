{
  "nbformat": 4,
  "nbformat_minor": 0,
  "metadata": {
    "colab": {
      "name": "[SOCAR] week_1.ipynb",
      "provenance": [],
      "authorship_tag": "ABX9TyN04tVG+8GxHDjqo2vxS4zc",
      "include_colab_link": true
    },
    "kernelspec": {
      "name": "python3",
      "display_name": "Python 3"
    },
    "language_info": {
      "name": "python"
    }
  },
  "cells": [
    {
      "cell_type": "markdown",
      "metadata": {
        "id": "view-in-github",
        "colab_type": "text"
      },
      "source": [
        "<a href=\"https://colab.research.google.com/github/mindxng/practice-with-SOCAR/blob/main/%5BSOCAR%5D_week_1.ipynb\" target=\"_parent\"><img src=\"https://colab.research.google.com/assets/colab-badge.svg\" alt=\"Open In Colab\"/></a>"
      ]
    },
    {
      "cell_type": "code",
      "execution_count": null,
      "metadata": {
        "id": "JqCstHQOC9Wx"
      },
      "outputs": [],
      "source": [
        ""
      ]
    }
  ]
}